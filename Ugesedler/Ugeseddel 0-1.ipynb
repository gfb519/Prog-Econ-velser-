{
 "cells": [
  {
   "cell_type": "code",
   "execution_count": 169,
   "id": "c7503ad3",
   "metadata": {},
   "outputs": [
    {
     "name": "stdout",
     "output_type": "stream",
     "text": [
      "3\n"
     ]
    }
   ],
   "source": [
    "\n",
    "a=1\n",
    "b=2\n",
    "c=a + b\n",
    "print(c)\n"
   ]
  },
  {
   "cell_type": "code",
   "execution_count": 170,
   "id": "55d80561",
   "metadata": {},
   "outputs": [
    {
     "name": "stdout",
     "output_type": "stream",
     "text": [
      "[0, 1]\n",
      "[2, 3, 4, 5]\n"
     ]
    }
   ],
   "source": [
    "\n",
    "x=[0,1,2,3,4,5]\n",
    "print(x[:2])\n",
    "print(x[2:])\n",
    "\n"
   ]
  },
  {
   "cell_type": "code",
   "execution_count": 171,
   "id": "4fba8c2f",
   "metadata": {},
   "outputs": [
    {
     "name": "stdout",
     "output_type": "stream",
     "text": [
      "[1, 2, 4]\n"
     ]
    }
   ],
   "source": [
    "x=[1,2,3]\n",
    "y=x\n",
    "y[-1]=4\n",
    "print (x)"
   ]
  },
  {
   "cell_type": "code",
   "execution_count": 172,
   "id": "bd514254",
   "metadata": {},
   "outputs": [
    {
     "name": "stdout",
     "output_type": "stream",
     "text": [
      "0\n",
      "1\n"
     ]
    }
   ],
   "source": [
    "for i in range(5):\n",
    "    if i >=2 : break\n",
    "    print(i)"
   ]
  },
  {
   "cell_type": "code",
   "execution_count": 173,
   "id": "0efc9884",
   "metadata": {},
   "outputs": [
    {
     "name": "stdout",
     "output_type": "stream",
     "text": [
      "0\n",
      "1\n",
      "3\n",
      "4\n"
     ]
    }
   ],
   "source": [
    "for i in range(5):\n",
    "    if i ==2 : continue\n",
    "    print(i)"
   ]
  },
  {
   "cell_type": "code",
   "execution_count": 174,
   "id": "55b7bd5b",
   "metadata": {},
   "outputs": [
    {
     "name": "stdout",
     "output_type": "stream",
     "text": [
      "just right\n"
     ]
    }
   ],
   "source": [
    "x=3\n",
    "if x>3:\n",
    "    print (\"too big\")\n",
    "elif x < 1:\n",
    "    print (\"too small\")\n",
    "else:\n",
    "    print (\"just right\")    "
   ]
  },
  {
   "cell_type": "code",
   "execution_count": 175,
   "id": "72d77a9d",
   "metadata": {},
   "outputs": [
    {
     "name": "stdout",
     "output_type": "stream",
     "text": [
      "2\n",
      "2\n",
      "3\n",
      "2\n"
     ]
    }
   ],
   "source": [
    "a=1\n",
    "def f(x):\n",
    "    return x+a\n",
    "def g(x,a=1):\n",
    "    return x+a\n",
    "print (f(1))\n",
    "print (g(1))\n",
    "a=2\n",
    "print (f(1))\n",
    "print (g(1))"
   ]
  },
  {
   "cell_type": "code",
   "execution_count": 176,
   "id": "7dd94c45",
   "metadata": {},
   "outputs": [
    {
     "name": "stdout",
     "output_type": "stream",
     "text": [
      "[2 3 4]\n",
      "[3 4 5]\n",
      "[3 4 5]\n"
     ]
    }
   ],
   "source": [
    "import numpy as np\n",
    "x = np.array([1,2,3])\n",
    "y=x\n",
    "x+=1\n",
    "print (y)\n",
    "x[:]=x+1\n",
    "print (y)\n",
    "x=x+1\n",
    "print (y)\n"
   ]
  },
  {
   "cell_type": "code",
   "execution_count": 177,
   "id": "6948e316",
   "metadata": {},
   "outputs": [
    {
     "name": "stdout",
     "output_type": "stream",
     "text": [
      "4\n"
     ]
    }
   ],
   "source": [
    "class SquareClass:\n",
    "    def __init__(self,length,width):\n",
    "        self.length=length\n",
    "        self.width=width\n",
    "    def size(self):\n",
    "        return self.length * self.width\n",
    "square=SquareClass (2,2)\n",
    "print(square.size())\n"
   ]
  },
  {
   "cell_type": "code",
   "execution_count": null,
   "id": "d4da7c7a",
   "metadata": {},
   "outputs": [],
   "source": []
  }
 ],
 "metadata": {
  "kernelspec": {
   "display_name": "base",
   "language": "python",
   "name": "python3"
  },
  "language_info": {
   "codemirror_mode": {
    "name": "ipython",
    "version": 3
   },
   "file_extension": ".py",
   "mimetype": "text/x-python",
   "name": "python",
   "nbconvert_exporter": "python",
   "pygments_lexer": "ipython3",
   "version": "3.13.5"
  }
 },
 "nbformat": 4,
 "nbformat_minor": 5
}
